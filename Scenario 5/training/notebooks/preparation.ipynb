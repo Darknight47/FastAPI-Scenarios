{
 "cells": [
  {
   "cell_type": "markdown",
   "id": "defca1ca",
   "metadata": {},
   "source": [
    "#### Fine-Tuning the GPT2 model"
   ]
  },
  {
   "cell_type": "code",
   "execution_count": 1,
   "id": "87dbe3b5",
   "metadata": {},
   "outputs": [],
   "source": [
    "import pandas as pd"
   ]
  },
  {
   "cell_type": "code",
   "execution_count": 2,
   "id": "d4f1c2e2",
   "metadata": {},
   "outputs": [],
   "source": [
    "dataset = pd.read_csv('../dataset/recipes.csv')"
   ]
  },
  {
   "cell_type": "code",
   "execution_count": 3,
   "id": "2ca6db90",
   "metadata": {},
   "outputs": [],
   "source": [
    "# Formatting each row \n",
    "def format_sample(row):\n",
    "    name = row['Name'] if pd.notna(row['Name']) else 'Unnamed Recipe'\n",
    "    ingredients = ', '.join(row['RecipeIngredientParts'])\n",
    "    instructions = '\\n'.join(row['RecipeInstructions'])\n",
    "\n",
    "    return (\n",
    "        f\"<|startoftext|>\\n\"\n",
    "        f\"Name: {name}\\n\"\n",
    "        f\"Ingredients: {ingredients}\\n\"\n",
    "        f\"Instructions:\\n{instructions}\\n\"\n",
    "        f\"<|endoftext|>\\n\"\n",
    "    )"
   ]
  },
  {
   "cell_type": "code",
   "execution_count": 4,
   "id": "2056b3bf",
   "metadata": {},
   "outputs": [],
   "source": [
    "# Creating a new dataset for fine-tuning\n",
    "with open('../dataset/gpt2_recipes.txt', 'w', encoding='utf-8') as f:\n",
    "    for _, row in dataset.iterrows():\n",
    "        try:\n",
    "            text = format_sample(row)\n",
    "            f.write(text)\n",
    "        except Exception as e:\n",
    "            continue"
   ]
  }
 ],
 "metadata": {
  "kernelspec": {
   "display_name": "venv",
   "language": "python",
   "name": "python3"
  },
  "language_info": {
   "codemirror_mode": {
    "name": "ipython",
    "version": 3
   },
   "file_extension": ".py",
   "mimetype": "text/x-python",
   "name": "python",
   "nbconvert_exporter": "python",
   "pygments_lexer": "ipython3",
   "version": "3.12.2"
  }
 },
 "nbformat": 4,
 "nbformat_minor": 5
}
