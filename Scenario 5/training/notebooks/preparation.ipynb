{
 "cells": [
  {
   "cell_type": "markdown",
   "id": "defca1ca",
   "metadata": {},
   "source": [
    "#### Fine-Tuning the GPT2 model"
   ]
  },
  {
   "cell_type": "code",
   "execution_count": 2,
   "id": "87dbe3b5",
   "metadata": {},
   "outputs": [],
   "source": [
    "import pandas as pd"
   ]
  },
  {
   "cell_type": "code",
   "execution_count": 3,
   "id": "d4f1c2e2",
   "metadata": {},
   "outputs": [],
   "source": [
    "dataset = pd.read_csv('../dataset/recipes.csv')"
   ]
  },
  {
   "cell_type": "code",
   "execution_count": 6,
   "id": "814f8ae4",
   "metadata": {},
   "outputs": [],
   "source": [
    "# Converting from R-style list to Python List\n",
    "def to_python_list(r_list_string):\n",
    "    if(isinstance(r_list_string, str)):\n",
    "        return r_list_string.strip('c()').replace('\"', '').split(', ')\n",
    "    return []"
   ]
  },
  {
   "cell_type": "code",
   "execution_count": 7,
   "id": "25c5c79d",
   "metadata": {},
   "outputs": [],
   "source": [
    "dataset[\"RecipeIngredientParts\"] = dataset[\"RecipeIngredientParts\"].apply(to_python_list)\n",
    "dataset[\"RecipeInstructions\"] = dataset[\"RecipeInstructions\"].apply(to_python_list)"
   ]
  },
  {
   "cell_type": "markdown",
   "id": "4ea51297",
   "metadata": {},
   "source": [
    "> GPT-2 learns where a sample starts and ends.  \n",
    "> We consistently format every recipe this way, the model can learn that structure, and we can prompt it with the same structure again later on."
   ]
  },
  {
   "cell_type": "code",
   "execution_count": 9,
   "id": "2ca6db90",
   "metadata": {},
   "outputs": [],
   "source": [
    "# Formatting each row \n",
    "def format_sample(row):\n",
    "    name = row['Name'] if pd.notna(row['Name']) else 'Unnamed Recipe'\n",
    "    ingredients = ', '.join(row['RecipeIngredientParts'])\n",
    "    instructions = '\\n'.join(row['RecipeInstructions'])\n",
    "\n",
    "    return (\n",
    "        f\"<|startoftext|>\\n\"\n",
    "        f\"Name: {name}\\n\"\n",
    "        f\"Ingredients: {ingredients}\\n\"\n",
    "        f\"Instructions:\\n{instructions}\\n\"\n",
    "        f\"<|endoftext|>\\n\"\n",
    "    )"
   ]
  },
  {
   "cell_type": "code",
   "execution_count": 10,
   "id": "2056b3bf",
   "metadata": {},
   "outputs": [],
   "source": [
    "# Creating a new dataset for fine-tuning\n",
    "with open('../dataset/gpt2_recipes.txt', 'w', encoding='utf-8') as f:\n",
    "    for _, row in dataset.iterrows():\n",
    "        try:\n",
    "            text = format_sample(row)\n",
    "            f.write(text)\n",
    "        except Exception as e:\n",
    "            continue"
   ]
  }
 ],
 "metadata": {
  "kernelspec": {
   "display_name": "venv",
   "language": "python",
   "name": "python3"
  },
  "language_info": {
   "codemirror_mode": {
    "name": "ipython",
    "version": 3
   },
   "file_extension": ".py",
   "mimetype": "text/x-python",
   "name": "python",
   "nbconvert_exporter": "python",
   "pygments_lexer": "ipython3",
   "version": "3.12.2"
  }
 },
 "nbformat": 4,
 "nbformat_minor": 5
}
