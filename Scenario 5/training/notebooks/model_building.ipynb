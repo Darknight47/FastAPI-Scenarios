{
 "cells": [
  {
   "cell_type": "code",
   "execution_count": 4,
   "id": "4fee62e5",
   "metadata": {},
   "outputs": [],
   "source": [
    "from datasets import load_dataset\n",
    "from transformers import GPT2Tokenizer"
   ]
  },
  {
   "cell_type": "code",
   "execution_count": 20,
   "id": "5fb80e9f",
   "metadata": {},
   "outputs": [
    {
     "name": "stderr",
     "output_type": "stream",
     "text": [
      "Generating train split: 9359907 examples [00:03, 2555558.99 examples/s]\n"
     ]
    }
   ],
   "source": [
    "dataset = load_dataset(\"text\", data_files={\"train\": \"../dataset/gpt2_recipes.txt\"})"
   ]
  },
  {
   "cell_type": "code",
   "execution_count": 27,
   "id": "3d1dc551",
   "metadata": {},
   "outputs": [
    {
     "name": "stdout",
     "output_type": "stream",
     "text": [
      "<|startoftext|>\n",
      "Name: Low-Fat Berry Blue Frozen Dessert\n",
      "Ingredients: blueberries, granulated sugar, vanilla yogurt, lemon juice\n",
      "Instructions:\n",
      "Toss 2 cups berries with sugar.\n",
      "Let stand for 45 minutes\n",
      "stirring occasionally.\n",
      "Transfer berry-sugar mixture to food processor.\n",
      "Add yogurt and process until smooth.\n",
      "Strain through fine sieve. Pour into baking pan (or transfer to ice cream maker and process according to manufacturers' directions). Freeze uncovered until edges are solid but centre is soft.  Transfer to processor and blend until smooth again.\n",
      "Return to pan and freeze until edges are solid.\n",
      "Transfer to processor and blend until smooth again.\n",
      "\n",
      "Fold in remaining 2 cups of blueberries.\n",
      "Pour into plastic mold and freeze overnight. Let soften slightly to serve.\n",
      "<|endoftext|>\n"
     ]
    }
   ],
   "source": [
    "# Check the first few rows\n",
    "for i in range(16):\n",
    "    print(dataset[\"train\"][i][\"text\"])"
   ]
  },
  {
   "cell_type": "code",
   "execution_count": null,
   "id": "3b4025ae",
   "metadata": {},
   "outputs": [],
   "source": []
  }
 ],
 "metadata": {
  "kernelspec": {
   "display_name": "venv",
   "language": "python",
   "name": "python3"
  },
  "language_info": {
   "codemirror_mode": {
    "name": "ipython",
    "version": 3
   },
   "file_extension": ".py",
   "mimetype": "text/x-python",
   "name": "python",
   "nbconvert_exporter": "python",
   "pygments_lexer": "ipython3",
   "version": "3.12.2"
  }
 },
 "nbformat": 4,
 "nbformat_minor": 5
}
