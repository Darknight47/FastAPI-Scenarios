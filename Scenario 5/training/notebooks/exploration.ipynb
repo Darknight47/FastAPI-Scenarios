{
 "cells": [
  {
   "cell_type": "markdown",
   "id": "3e213ad8",
   "metadata": {},
   "source": [
    "### Data Exploration\n",
    "The recipes dataset contains 522,517 recipes from 312 different categories. This dataset provides information about each recipe like cooking times, servings, ingredients, nutrition, instructions, and more."
   ]
  },
  {
   "cell_type": "code",
   "execution_count": 1,
   "id": "0451f6af",
   "metadata": {},
   "outputs": [],
   "source": [
    "import pandas as pd"
   ]
  },
  {
   "cell_type": "code",
   "execution_count": 2,
   "id": "83334e6f",
   "metadata": {},
   "outputs": [],
   "source": [
    "dataset = pd.read_csv(\"../dataset/recipes.csv\")"
   ]
  },
  {
   "cell_type": "code",
   "execution_count": 3,
   "id": "c82f88a7",
   "metadata": {},
   "outputs": [
    {
     "data": {
      "text/html": [
       "<div>\n",
       "<style scoped>\n",
       "    .dataframe tbody tr th:only-of-type {\n",
       "        vertical-align: middle;\n",
       "    }\n",
       "\n",
       "    .dataframe tbody tr th {\n",
       "        vertical-align: top;\n",
       "    }\n",
       "\n",
       "    .dataframe thead th {\n",
       "        text-align: right;\n",
       "    }\n",
       "</style>\n",
       "<table border=\"1\" class=\"dataframe\">\n",
       "  <thead>\n",
       "    <tr style=\"text-align: right;\">\n",
       "      <th></th>\n",
       "      <th>RecipeId</th>\n",
       "      <th>Name</th>\n",
       "      <th>AuthorId</th>\n",
       "      <th>AuthorName</th>\n",
       "      <th>CookTime</th>\n",
       "      <th>PrepTime</th>\n",
       "      <th>TotalTime</th>\n",
       "      <th>DatePublished</th>\n",
       "      <th>Description</th>\n",
       "      <th>Images</th>\n",
       "      <th>...</th>\n",
       "      <th>SaturatedFatContent</th>\n",
       "      <th>CholesterolContent</th>\n",
       "      <th>SodiumContent</th>\n",
       "      <th>CarbohydrateContent</th>\n",
       "      <th>FiberContent</th>\n",
       "      <th>SugarContent</th>\n",
       "      <th>ProteinContent</th>\n",
       "      <th>RecipeServings</th>\n",
       "      <th>RecipeYield</th>\n",
       "      <th>RecipeInstructions</th>\n",
       "    </tr>\n",
       "  </thead>\n",
       "  <tbody>\n",
       "    <tr>\n",
       "      <th>0</th>\n",
       "      <td>38</td>\n",
       "      <td>Low-Fat Berry Blue Frozen Dessert</td>\n",
       "      <td>1533</td>\n",
       "      <td>Dancer</td>\n",
       "      <td>PT24H</td>\n",
       "      <td>PT45M</td>\n",
       "      <td>PT24H45M</td>\n",
       "      <td>1999-08-09T21:46:00Z</td>\n",
       "      <td>Make and share this Low-Fat Berry Blue Frozen ...</td>\n",
       "      <td>c(\"https://img.sndimg.com/food/image/upload/w_...</td>\n",
       "      <td>...</td>\n",
       "      <td>1.3</td>\n",
       "      <td>8.0</td>\n",
       "      <td>29.8</td>\n",
       "      <td>37.1</td>\n",
       "      <td>3.6</td>\n",
       "      <td>30.2</td>\n",
       "      <td>3.2</td>\n",
       "      <td>4.0</td>\n",
       "      <td>NaN</td>\n",
       "      <td>c(\"Toss 2 cups berries with sugar.\", \"Let stan...</td>\n",
       "    </tr>\n",
       "    <tr>\n",
       "      <th>1</th>\n",
       "      <td>39</td>\n",
       "      <td>Biryani</td>\n",
       "      <td>1567</td>\n",
       "      <td>elly9812</td>\n",
       "      <td>PT25M</td>\n",
       "      <td>PT4H</td>\n",
       "      <td>PT4H25M</td>\n",
       "      <td>1999-08-29T13:12:00Z</td>\n",
       "      <td>Make and share this Biryani recipe from Food.com.</td>\n",
       "      <td>c(\"https://img.sndimg.com/food/image/upload/w_...</td>\n",
       "      <td>...</td>\n",
       "      <td>16.6</td>\n",
       "      <td>372.8</td>\n",
       "      <td>368.4</td>\n",
       "      <td>84.4</td>\n",
       "      <td>9.0</td>\n",
       "      <td>20.4</td>\n",
       "      <td>63.4</td>\n",
       "      <td>6.0</td>\n",
       "      <td>NaN</td>\n",
       "      <td>c(\"Soak saffron in warm milk for 5 minutes and...</td>\n",
       "    </tr>\n",
       "  </tbody>\n",
       "</table>\n",
       "<p>2 rows × 28 columns</p>\n",
       "</div>"
      ],
      "text/plain": [
       "   RecipeId                               Name  AuthorId AuthorName CookTime  \\\n",
       "0        38  Low-Fat Berry Blue Frozen Dessert      1533     Dancer    PT24H   \n",
       "1        39                            Biryani      1567   elly9812    PT25M   \n",
       "\n",
       "  PrepTime TotalTime         DatePublished  \\\n",
       "0    PT45M  PT24H45M  1999-08-09T21:46:00Z   \n",
       "1     PT4H   PT4H25M  1999-08-29T13:12:00Z   \n",
       "\n",
       "                                         Description  \\\n",
       "0  Make and share this Low-Fat Berry Blue Frozen ...   \n",
       "1  Make and share this Biryani recipe from Food.com.   \n",
       "\n",
       "                                              Images  ... SaturatedFatContent  \\\n",
       "0  c(\"https://img.sndimg.com/food/image/upload/w_...  ...                 1.3   \n",
       "1  c(\"https://img.sndimg.com/food/image/upload/w_...  ...                16.6   \n",
       "\n",
       "  CholesterolContent SodiumContent CarbohydrateContent  FiberContent  \\\n",
       "0                8.0          29.8                37.1           3.6   \n",
       "1              372.8         368.4                84.4           9.0   \n",
       "\n",
       "   SugarContent  ProteinContent  RecipeServings  RecipeYield  \\\n",
       "0          30.2             3.2             4.0          NaN   \n",
       "1          20.4            63.4             6.0          NaN   \n",
       "\n",
       "                                  RecipeInstructions  \n",
       "0  c(\"Toss 2 cups berries with sugar.\", \"Let stan...  \n",
       "1  c(\"Soak saffron in warm milk for 5 minutes and...  \n",
       "\n",
       "[2 rows x 28 columns]"
      ]
     },
     "execution_count": 3,
     "metadata": {},
     "output_type": "execute_result"
    }
   ],
   "source": [
    "dataset.head(2)"
   ]
  },
  {
   "cell_type": "code",
   "execution_count": 4,
   "id": "3feab44d",
   "metadata": {},
   "outputs": [
    {
     "data": {
      "text/plain": [
       "(522517, 28)"
      ]
     },
     "execution_count": 4,
     "metadata": {},
     "output_type": "execute_result"
    }
   ],
   "source": [
    "dataset.shape"
   ]
  },
  {
   "cell_type": "code",
   "execution_count": 5,
   "id": "b3705a75",
   "metadata": {},
   "outputs": [
    {
     "data": {
      "text/plain": [
       "Index(['RecipeId', 'Name', 'AuthorId', 'AuthorName', 'CookTime', 'PrepTime',\n",
       "       'TotalTime', 'DatePublished', 'Description', 'Images', 'RecipeCategory',\n",
       "       'Keywords', 'RecipeIngredientQuantities', 'RecipeIngredientParts',\n",
       "       'AggregatedRating', 'ReviewCount', 'Calories', 'FatContent',\n",
       "       'SaturatedFatContent', 'CholesterolContent', 'SodiumContent',\n",
       "       'CarbohydrateContent', 'FiberContent', 'SugarContent', 'ProteinContent',\n",
       "       'RecipeServings', 'RecipeYield', 'RecipeInstructions'],\n",
       "      dtype='object')"
      ]
     },
     "execution_count": 5,
     "metadata": {},
     "output_type": "execute_result"
    }
   ],
   "source": [
    "dataset.columns"
   ]
  },
  {
   "cell_type": "code",
   "execution_count": 6,
   "id": "1e5067c6",
   "metadata": {},
   "outputs": [
    {
     "data": {
      "text/plain": [
       "RecipeId                           0\n",
       "Name                               0\n",
       "AuthorId                           0\n",
       "AuthorName                         0\n",
       "CookTime                       82545\n",
       "PrepTime                           0\n",
       "TotalTime                          0\n",
       "DatePublished                      0\n",
       "Description                        5\n",
       "Images                             1\n",
       "RecipeCategory                   751\n",
       "Keywords                       17237\n",
       "RecipeIngredientQuantities         3\n",
       "RecipeIngredientParts              0\n",
       "AggregatedRating              253223\n",
       "ReviewCount                   247489\n",
       "Calories                           0\n",
       "FatContent                         0\n",
       "SaturatedFatContent                0\n",
       "CholesterolContent                 0\n",
       "SodiumContent                      0\n",
       "CarbohydrateContent                0\n",
       "FiberContent                       0\n",
       "SugarContent                       0\n",
       "ProteinContent                     0\n",
       "RecipeServings                182911\n",
       "RecipeYield                   348071\n",
       "RecipeInstructions                 0\n",
       "dtype: int64"
      ]
     },
     "execution_count": 6,
     "metadata": {},
     "output_type": "execute_result"
    }
   ],
   "source": [
    "dataset.isnull().sum()"
   ]
  },
  {
   "cell_type": "markdown",
   "id": "b5db065d",
   "metadata": {},
   "source": [
    "### Data Preprocessing"
   ]
  },
  {
   "cell_type": "code",
   "execution_count": 7,
   "id": "834a77bb",
   "metadata": {},
   "outputs": [],
   "source": [
    "features = dataset[['Name', 'RecipeIngredientQuantities', 'RecipeIngredientParts','RecipeInstructions']]"
   ]
  },
  {
   "cell_type": "code",
   "execution_count": 8,
   "id": "4ecd5c72",
   "metadata": {},
   "outputs": [
    {
     "data": {
      "text/html": [
       "<div>\n",
       "<style scoped>\n",
       "    .dataframe tbody tr th:only-of-type {\n",
       "        vertical-align: middle;\n",
       "    }\n",
       "\n",
       "    .dataframe tbody tr th {\n",
       "        vertical-align: top;\n",
       "    }\n",
       "\n",
       "    .dataframe thead th {\n",
       "        text-align: right;\n",
       "    }\n",
       "</style>\n",
       "<table border=\"1\" class=\"dataframe\">\n",
       "  <thead>\n",
       "    <tr style=\"text-align: right;\">\n",
       "      <th></th>\n",
       "      <th>Name</th>\n",
       "      <th>RecipeIngredientQuantities</th>\n",
       "      <th>RecipeIngredientParts</th>\n",
       "      <th>RecipeInstructions</th>\n",
       "    </tr>\n",
       "  </thead>\n",
       "  <tbody>\n",
       "    <tr>\n",
       "      <th>0</th>\n",
       "      <td>Low-Fat Berry Blue Frozen Dessert</td>\n",
       "      <td>c(\"4\", \"1/4\", \"1\", \"1\")</td>\n",
       "      <td>c(\"blueberries\", \"granulated sugar\", \"vanilla ...</td>\n",
       "      <td>c(\"Toss 2 cups berries with sugar.\", \"Let stan...</td>\n",
       "    </tr>\n",
       "    <tr>\n",
       "      <th>1</th>\n",
       "      <td>Biryani</td>\n",
       "      <td>c(\"1\", \"4\", \"2\", \"2\", \"8\", \"1/4\", \"8\", \"1/2\", ...</td>\n",
       "      <td>c(\"saffron\", \"milk\", \"hot green chili peppers\"...</td>\n",
       "      <td>c(\"Soak saffron in warm milk for 5 minutes and...</td>\n",
       "    </tr>\n",
       "    <tr>\n",
       "      <th>2</th>\n",
       "      <td>Best Lemonade</td>\n",
       "      <td>c(\"1 1/2\", \"1\", NA, \"1 1/2\", NA, \"3/4\")</td>\n",
       "      <td>c(\"sugar\", \"lemons, rind of\", \"lemon, zest of\"...</td>\n",
       "      <td>c(\"Into a 1 quart Jar with tight fitting lid, ...</td>\n",
       "    </tr>\n",
       "  </tbody>\n",
       "</table>\n",
       "</div>"
      ],
      "text/plain": [
       "                                Name  \\\n",
       "0  Low-Fat Berry Blue Frozen Dessert   \n",
       "1                            Biryani   \n",
       "2                      Best Lemonade   \n",
       "\n",
       "                          RecipeIngredientQuantities  \\\n",
       "0                            c(\"4\", \"1/4\", \"1\", \"1\")   \n",
       "1  c(\"1\", \"4\", \"2\", \"2\", \"8\", \"1/4\", \"8\", \"1/2\", ...   \n",
       "2            c(\"1 1/2\", \"1\", NA, \"1 1/2\", NA, \"3/4\")   \n",
       "\n",
       "                               RecipeIngredientParts  \\\n",
       "0  c(\"blueberries\", \"granulated sugar\", \"vanilla ...   \n",
       "1  c(\"saffron\", \"milk\", \"hot green chili peppers\"...   \n",
       "2  c(\"sugar\", \"lemons, rind of\", \"lemon, zest of\"...   \n",
       "\n",
       "                                  RecipeInstructions  \n",
       "0  c(\"Toss 2 cups berries with sugar.\", \"Let stan...  \n",
       "1  c(\"Soak saffron in warm milk for 5 minutes and...  \n",
       "2  c(\"Into a 1 quart Jar with tight fitting lid, ...  "
      ]
     },
     "execution_count": 8,
     "metadata": {},
     "output_type": "execute_result"
    }
   ],
   "source": [
    "features.head(3)"
   ]
  },
  {
   "cell_type": "code",
   "execution_count": 9,
   "id": "e6aaced2",
   "metadata": {},
   "outputs": [
    {
     "name": "stdout",
     "output_type": "stream",
     "text": [
      "c(\"blueberries\", \"granulated sugar\", \"vanilla yogurt\", \"lemon juice\")\n"
     ]
    }
   ],
   "source": [
    "full_text = features.loc[0, 'RecipeIngredientParts']\n",
    "print(full_text)"
   ]
  },
  {
   "cell_type": "code",
   "execution_count": 10,
   "id": "8ae3276d",
   "metadata": {},
   "outputs": [],
   "source": [
    "# Converting from R-style list to Python List\n",
    "def to_python_list(r_list_string):\n",
    "    if(isinstance(r_list_string, str)):\n",
    "        return r_list_string.strip('c()').replace('\"', '').split(', ')\n",
    "    return []"
   ]
  },
  {
   "cell_type": "code",
   "execution_count": 11,
   "id": "f4bff8da",
   "metadata": {},
   "outputs": [
    {
     "name": "stdout",
     "output_type": "stream",
     "text": [
      "['blueberries', 'granulated sugar', 'vanilla yogurt', 'lemon juice']\n"
     ]
    }
   ],
   "source": [
    "test = to_python_list(full_text)\n",
    "print(test)"
   ]
  },
  {
   "cell_type": "code",
   "execution_count": 12,
   "id": "108ec3c5",
   "metadata": {},
   "outputs": [],
   "source": [
    "features.loc[:, 'RecipeIngredientParts'] = features['RecipeIngredientParts'].apply(to_python_list)"
   ]
  },
  {
   "cell_type": "code",
   "execution_count": 13,
   "id": "9e972b7e",
   "metadata": {},
   "outputs": [],
   "source": [
    "features.loc[:, 'RecipeInstructions'] = features['RecipeInstructions'].apply(to_python_list)\n",
    "features.loc[:, 'RecipeIngredientQuantities'] = features['RecipeIngredientQuantities'].apply(to_python_list)"
   ]
  },
  {
   "cell_type": "code",
   "execution_count": 14,
   "id": "7b08ee0e",
   "metadata": {},
   "outputs": [
    {
     "data": {
      "text/html": [
       "<div>\n",
       "<style scoped>\n",
       "    .dataframe tbody tr th:only-of-type {\n",
       "        vertical-align: middle;\n",
       "    }\n",
       "\n",
       "    .dataframe tbody tr th {\n",
       "        vertical-align: top;\n",
       "    }\n",
       "\n",
       "    .dataframe thead th {\n",
       "        text-align: right;\n",
       "    }\n",
       "</style>\n",
       "<table border=\"1\" class=\"dataframe\">\n",
       "  <thead>\n",
       "    <tr style=\"text-align: right;\">\n",
       "      <th></th>\n",
       "      <th>Name</th>\n",
       "      <th>RecipeIngredientQuantities</th>\n",
       "      <th>RecipeIngredientParts</th>\n",
       "      <th>RecipeInstructions</th>\n",
       "    </tr>\n",
       "  </thead>\n",
       "  <tbody>\n",
       "    <tr>\n",
       "      <th>0</th>\n",
       "      <td>Low-Fat Berry Blue Frozen Dessert</td>\n",
       "      <td>[4, 1/4, 1, 1]</td>\n",
       "      <td>[blueberries, granulated sugar, vanilla yogurt...</td>\n",
       "      <td>[Toss 2 cups berries with sugar., Let stand fo...</td>\n",
       "    </tr>\n",
       "    <tr>\n",
       "      <th>1</th>\n",
       "      <td>Biryani</td>\n",
       "      <td>[1, 4, 2, 2, 8, 1/4, 8, 1/2, 1, 1, 1/4, 1/4, 1...</td>\n",
       "      <td>[saffron, milk, hot green chili peppers, onion...</td>\n",
       "      <td>[Soak saffron in warm milk for 5 minutes and p...</td>\n",
       "    </tr>\n",
       "  </tbody>\n",
       "</table>\n",
       "</div>"
      ],
      "text/plain": [
       "                                Name  \\\n",
       "0  Low-Fat Berry Blue Frozen Dessert   \n",
       "1                            Biryani   \n",
       "\n",
       "                          RecipeIngredientQuantities  \\\n",
       "0                                     [4, 1/4, 1, 1]   \n",
       "1  [1, 4, 2, 2, 8, 1/4, 8, 1/2, 1, 1, 1/4, 1/4, 1...   \n",
       "\n",
       "                               RecipeIngredientParts  \\\n",
       "0  [blueberries, granulated sugar, vanilla yogurt...   \n",
       "1  [saffron, milk, hot green chili peppers, onion...   \n",
       "\n",
       "                                  RecipeInstructions  \n",
       "0  [Toss 2 cups berries with sugar., Let stand fo...  \n",
       "1  [Soak saffron in warm milk for 5 minutes and p...  "
      ]
     },
     "execution_count": 14,
     "metadata": {},
     "output_type": "execute_result"
    }
   ],
   "source": [
    "features.head(2)"
   ]
  },
  {
   "cell_type": "markdown",
   "id": "83dfdd0c",
   "metadata": {},
   "source": [
    "#### Score Similarity Each Recipe (v1)\n",
    "1. Simple, fast\n",
    "2. Can’t handle fuzzy matches like \"garlic cloves\" vs \"garlic\"\n",
    "3. Doesn’t consider importance of ingredients"
   ]
  },
  {
   "cell_type": "code",
   "execution_count": 15,
   "id": "1bd3ec62",
   "metadata": {},
   "outputs": [],
   "source": [
    "def ingredient_match_score_v1(recipe_ingredients, user_ingredients):\n",
    "    return len(set(recipe_ingredients).intersection(set(user_ingredients)))"
   ]
  },
  {
   "cell_type": "code",
   "execution_count": 16,
   "id": "ed5cb75b",
   "metadata": {},
   "outputs": [],
   "source": [
    "user_ingredients = [\"onion\", \"garlic\", \"tomato\"]"
   ]
  },
  {
   "cell_type": "code",
   "execution_count": 17,
   "id": "16dd47ee",
   "metadata": {},
   "outputs": [],
   "source": [
    "features_v1 = features.copy()  # Make an explicit copy\n",
    "features_v1['match_score'] = features_v1['RecipeIngredientParts'].apply(\n",
    "    lambda recipe: ingredient_match_score_v1(recipe, user_ingredients)\n",
    ")"
   ]
  },
  {
   "cell_type": "code",
   "execution_count": 18,
   "id": "7c3f2979",
   "metadata": {},
   "outputs": [],
   "source": [
    "top_recipes = features_v1.sort_values(by='match_score', ascending=False)\n",
    "best_match = top_recipes.iloc[0]"
   ]
  },
  {
   "cell_type": "code",
   "execution_count": 19,
   "id": "256cab2f",
   "metadata": {},
   "outputs": [
    {
     "data": {
      "text/plain": [
       "Name                                               Blumenthal's Small Frittatas\n",
       "RecipeIngredientQuantities    [2, 1/2, 1/2, NA, 1/2, 1, 4, 2, 1/4, 1/8, 1/8,...\n",
       "RecipeIngredientParts         [frozen hash browns, cheddar cheese, sausage, ...\n",
       "RecipeInstructions            [Preheat over to 325 degrees., Grease (or use ...\n",
       "match_score                                                                   2\n",
       "Name: 13848, dtype: object"
      ]
     },
     "execution_count": 19,
     "metadata": {},
     "output_type": "execute_result"
    }
   ],
   "source": [
    "best_match"
   ]
  },
  {
   "cell_type": "code",
   "execution_count": 20,
   "id": "3dc90fdc",
   "metadata": {},
   "outputs": [
    {
     "name": "stdout",
     "output_type": "stream",
     "text": [
      "Name:  Blumenthal's Small Frittatas\n",
      "Ingredients: ['frozen hash browns', 'cheddar cheese', 'sausage', 'olive oil', 'onion', 'garlic', 'eggs', 'oregano', 'marjoram', 'sage', 'tarragon', 'plain yogurt', 'biscuit mix']\n",
      "\n",
      "Instructions:\n",
      "- Preheat over to 325 degrees.\n",
      "- Grease (or use paper liners) 12 muffin tins.\n",
      "- Saute onions and garlic in olive oil.\n",
      "- Cook sausage.\n",
      "- Microwave or steam-cook potatoes (do not overcook).\n",
      "- Toss onions\n",
      "- garlic\n",
      "- sausage\n",
      "- and potatoes with cheese.\n",
      "- Divide evenly into 12 tins.\n",
      "- Whip eggs\n",
      "- egg whites\n",
      "- and fajita seasoning.\n",
      "- Mix in other seasonings.\n",
      "- Pour mixture evenly over potatoe mixture.\n",
      "- Bake 25 minutes.\n",
      "- Turn oven off\n",
      "- but let sit in oven 10 minutes.\n",
      "- Serve warm.\n",
      "- Mix in yogurt and biscuit mix.\n",
      "\n"
     ]
    }
   ],
   "source": [
    "print(\"Name: \", best_match['Name'])\n",
    "print(\"Ingredients:\", best_match['RecipeIngredientParts'])\n",
    "print(\"\\nInstructions:\")\n",
    "for step in best_match['RecipeInstructions']:\n",
    "    print(\"-\", step)"
   ]
  },
  {
   "cell_type": "markdown",
   "id": "344f7c70",
   "metadata": {},
   "source": [
    "#### TF-IDF + Cosine Similarity (Score Similarity v2)\n",
    "1. **Term Frequency** – how often a word appears in a document\n",
    "2. **Inverse Document Frequency** – how rare that word is across all documents\n",
    "\n",
    "##### Pros:\n",
    "1. Matches exact words\n",
    "2. Handles frequent/common words\n",
    "3. Can rank results better\n",
    "4. Learns from the whole dataset\n",
    "5. Weighs ingredients by importance\n",
    "6. Finds smarter matches than just counting overlaps\n",
    "7. Is scalable and easy to expand"
   ]
  },
  {
   "cell_type": "code",
   "execution_count": 21,
   "id": "1257fd14",
   "metadata": {},
   "outputs": [],
   "source": [
    "from sklearn.feature_extraction.text import TfidfVectorizer\n",
    "from sklearn.metrics.pairwise import cosine_similarity\n",
    "import numpy as np"
   ]
  },
  {
   "cell_type": "code",
   "execution_count": 22,
   "id": "19107d65",
   "metadata": {},
   "outputs": [],
   "source": [
    "features_v2 = features.copy()"
   ]
  },
  {
   "cell_type": "code",
   "execution_count": 23,
   "id": "72252116",
   "metadata": {},
   "outputs": [],
   "source": [
    "# Each recipe’s ingredient list becomes a “document”:\n",
    "# [\"chicken\", \"salt\", \"garlic\"] → \"chicken salt garlic\"\n",
    "corpus = features_v2['RecipeIngredientParts'].apply(lambda parts: ' '.join(parts))"
   ]
  },
  {
   "cell_type": "code",
   "execution_count": 24,
   "id": "9cb5b671",
   "metadata": {},
   "outputs": [],
   "source": [
    "# Vectorize each recipe's ingredients\n",
    "\n",
    "vectorizer = TfidfVectorizer()\n",
    "tfidf_matrix = vectorizer.fit_transform(corpus)"
   ]
  },
  {
   "cell_type": "code",
   "execution_count": 25,
   "id": "57088667",
   "metadata": {},
   "outputs": [],
   "source": [
    "user_query = \"onion garlic tomato\""
   ]
  },
  {
   "cell_type": "code",
   "execution_count": 26,
   "id": "2bbcc11a",
   "metadata": {},
   "outputs": [],
   "source": [
    "# Vectorize the user's ingredients\n",
    "user_vec = vectorizer.transform([user_query])"
   ]
  },
  {
   "cell_type": "code",
   "execution_count": 27,
   "id": "01e439b1",
   "metadata": {},
   "outputs": [],
   "source": [
    "# Use cosine similarity to compare\n",
    "cos_sim = cosine_similarity(user_vec, tfidf_matrix)"
   ]
  },
  {
   "cell_type": "code",
   "execution_count": 28,
   "id": "80a041e5",
   "metadata": {},
   "outputs": [],
   "source": [
    "top_idx = np.argmax(cos_sim)\n",
    "top_recipe = features.iloc[top_idx]"
   ]
  },
  {
   "cell_type": "code",
   "execution_count": 29,
   "id": "64f64c9c",
   "metadata": {},
   "outputs": [
    {
     "name": "stdout",
     "output_type": "stream",
     "text": [
      "Name:  Mexican Bean Dip\n",
      "Top recipe match:\n",
      "\n",
      "Ingredients: ['tomato sauce', 'onion']\n",
      "\n",
      "Instructions:\n",
      "- Place all ingredients in a medium Microwave-safe bowl.\n",
      "- Mix well.\n",
      "- Cover with plastic wrap.\n",
      "- Microwave on High 6 minutes.\n",
      "- Stir at 3 minutes.\n",
      "- Serve with corn chips.\n"
     ]
    }
   ],
   "source": [
    "print(\"Name: \", top_recipe['Name'])\n",
    "print(\"Top recipe match:\")\n",
    "print(\"\\nIngredients:\", top_recipe['RecipeIngredientParts'])\n",
    "\n",
    "print(\"\\nInstructions:\")\n",
    "for step in top_recipe['RecipeInstructions']:\n",
    "    print(\"-\", step)"
   ]
  },
  {
   "cell_type": "markdown",
   "id": "67534bca",
   "metadata": {},
   "source": [
    "#### Fuzzy Matching Similarity (Score Similarity V3)\n",
    "1. Recognize that \"roma tomato\" ≈ \"tomato\"\n",
    "2. Handle typos or partial matches (like \"onions\" vs \"onion\")\n",
    "3. Improve ingredient matching without using heavy models"
   ]
  },
  {
   "cell_type": "code",
   "execution_count": 30,
   "id": "1079bc38",
   "metadata": {},
   "outputs": [],
   "source": [
    "from rapidfuzz import fuzz"
   ]
  },
  {
   "cell_type": "code",
   "execution_count": 31,
   "id": "8f3baccb",
   "metadata": {},
   "outputs": [],
   "source": [
    "def fuzzy_match_score(recipe_ingredients, user_ingred):\n",
    "    total_score = 0\n",
    "\n",
    "    for user_ing in user_ingred:\n",
    "        # For each user ingredient, find best fuzzy match in the recipe\n",
    "        best = max(fuzz.partial_ratio(user_ing, recipe_ing) for recipe_ing in recipe_ingredients)\n",
    "        total_score += best\n",
    "    \n",
    "    # Normalizing the score\n",
    "    return total_score / len(user_ingred) if user_ingred else 0"
   ]
  },
  {
   "cell_type": "code",
   "execution_count": 32,
   "id": "bc04df34",
   "metadata": {},
   "outputs": [],
   "source": [
    "user_ingredients = [\"roma tomato\", \"onion\", \"garlic\"]"
   ]
  },
  {
   "cell_type": "code",
   "execution_count": 33,
   "id": "f241f0ab",
   "metadata": {},
   "outputs": [],
   "source": [
    "features_v3 = features.copy()"
   ]
  },
  {
   "cell_type": "code",
   "execution_count": 34,
   "id": "65e45546",
   "metadata": {},
   "outputs": [],
   "source": [
    "features_v3['fuzzy_score'] = features_v3['RecipeIngredientParts'].apply(\n",
    "    lambda recipe: fuzzy_match_score(recipe, user_ingredients)\n",
    ")"
   ]
  },
  {
   "cell_type": "code",
   "execution_count": 39,
   "id": "d0710d78",
   "metadata": {},
   "outputs": [],
   "source": [
    "# Top match (highest Fuzzy Score)\n",
    "top_recipe = features_v3.sort_values(by='fuzzy_score', ascending=False).iloc[0]"
   ]
  },
  {
   "cell_type": "code",
   "execution_count": 40,
   "id": "f5e2708f",
   "metadata": {},
   "outputs": [
    {
     "name": "stdout",
     "output_type": "stream",
     "text": [
      "Top Fuzzy Match Name: Fatoosh (Middle Eastern Bread Salad)\n",
      "Ingredients: ['romaine lettuce', 'green onions', 'cucumber', 'roma tomatoes', 'fresh parsley', 'garlic cloves', 'dried mint', 'olive oil', 'salt']\n",
      "\n",
      "Instructions:\n",
      "- Toast the pita breads and with a scissors\n",
      "- cut into bite sized pieces.\n",
      "- Set aside.\n",
      "- Toss lettuce\n",
      "- green onion\n",
      "- cucumber\n",
      "- tomatoes\n",
      "- parsley\n",
      "- garlic and mint in a large mixing bowl.\n",
      "- Add lemon juice\n",
      "- olive oil and sumac.\n",
      "- Toss.\n",
      "- Add bread and then salt to taste.\n",
      "- Best if allowed to chill for a few hours before serving.\n",
      "- sumac is a maroonish colored middle eastern spice that can be found almost anywhere.  It adds a nice color and flavor.\n",
      "- It's not necessary\n",
      "- but a very nice touch to this recipe.\n",
      "\n"
     ]
    }
   ],
   "source": [
    "print(\"Top Fuzzy Match Name:\", top_recipe['Name'])\n",
    "print(\"Ingredients:\", top_recipe['RecipeIngredientParts'])\n",
    "print(\"\\nInstructions:\")\n",
    "for step in top_recipe['RecipeInstructions']:\n",
    "    print(\"-\", step)"
   ]
  },
  {
   "cell_type": "code",
   "execution_count": 42,
   "id": "1fb47d8e",
   "metadata": {},
   "outputs": [],
   "source": [
    "top_5_recipes = features_v3.sort_values(by='fuzzy_score', ascending=False).head(5)"
   ]
  },
  {
   "cell_type": "code",
   "execution_count": 43,
   "id": "56c81e3e",
   "metadata": {},
   "outputs": [
    {
     "name": "stdout",
     "output_type": "stream",
     "text": [
      "Top Fuzzy Match Name: Fatoosh (Middle Eastern Bread Salad)\n",
      "Ingredients: ['romaine lettuce', 'green onions', 'cucumber', 'roma tomatoes', 'fresh parsley', 'garlic cloves', 'dried mint', 'olive oil', 'salt']\n",
      "----------------------------------------\n",
      "Top Fuzzy Match Name: Black Bean Salsa\n",
      "Ingredients: ['black beans', 'tomatoes', 'roma tomatoes', 'green onions', 'garlic', 'cilantro', 'white pepper']\n",
      "----------------------------------------\n",
      "Top Fuzzy Match Name: Beviers BBQ Oysters With Habanero Salsa\n",
      "Ingredients: ['salsa', 'white wine', 'lemon juice', 'Worcestershire sauce', 'roma tomatoes', 'sweet onion', 'bell pepper', 'habanero pepper', 'garlic cloves', 'lime juice', 'cilantro', 'kosher salt', 'pepper']\n",
      "----------------------------------------\n",
      "Top Fuzzy Match Name: Homemade Tomato Sauce\n",
      "Ingredients: ['butter', 'onion', 'brown sugar', 'roma tomatoes', 'garlic cloves', 'tomato paste', 'extra virgin olive oil']\n",
      "----------------------------------------\n",
      "Top Fuzzy Match Name: Blue Ribbon Fresh Salsa\n",
      "Ingredients: ['roma tomatoes', 'yellow onion', 'fresh garlic clove', 'green bell pepper', 'red bell pepper', 'fresh cilantro', 'fresh lime juice', 'salt']\n",
      "----------------------------------------\n"
     ]
    }
   ],
   "source": [
    "for idx, row in top_5_recipes.iterrows():\n",
    "    print(\"Top Fuzzy Match Name:\", row['Name'])\n",
    "    print(\"Ingredients:\", row['RecipeIngredientParts'])\n",
    "    print(\"-\" * 40)"
   ]
  },
  {
   "cell_type": "markdown",
   "id": "aa4510dd",
   "metadata": {},
   "source": []
  }
 ],
 "metadata": {
  "kernelspec": {
   "display_name": "venv",
   "language": "python",
   "name": "python3"
  },
  "language_info": {
   "codemirror_mode": {
    "name": "ipython",
    "version": 3
   },
   "file_extension": ".py",
   "mimetype": "text/x-python",
   "name": "python",
   "nbconvert_exporter": "python",
   "pygments_lexer": "ipython3",
   "version": "3.12.2"
  }
 },
 "nbformat": 4,
 "nbformat_minor": 5
}
